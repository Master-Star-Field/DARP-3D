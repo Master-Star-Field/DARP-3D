{
 "cells": [
  {
   "cell_type": "code",
   "execution_count": null,
   "id": "18e20d7b",
   "metadata": {},
   "outputs": [
    {
     "name": "stdout",
     "output_type": "stream",
     "text": [
      "Генерация лабиринта...\n",
      "Размер лабиринта: (61, 61, 11)\n",
      "Количество препятствий: 5481\n",
      "\n",
      "Генерация горного ландшафта...\n",
      "Размер горного ландшафта: (100, 100, 40)\n",
      "Количество препятствий: 10868\n",
      "\n",
      "Генерация сферических препятствий...\n",
      "Размер карты со сферическими препятствиями: (30, 30, 30)\n",
      "Количество препятствий: 2328\n",
      "\n",
      "Визуализация результатов...\n",
      "Визуализация завершена. Результаты сохранены.\n"
     ]
    }
   ],
   "source": [
    "import numpy as np\n",
    "import random\n",
    "from maze_generator import generate_maze, render_maze\n",
    "from mountain_generator import generate_mountains\n",
    "from spherical_obstacles_generator import generate_spherical_obstacles\n",
    "from visualization import visualize_all\n",
    "\n",
    "def main():\n",
    "    rows, cols = 15, 15\n",
    "    map_width, map_height, map_depth = 100, 100, 40\n",
    "    \n",
    "    print(\"Генерация лабиринта...\")\n",
    "    removed_walls = generate_maze(rows, cols, add_connections=5)\n",
    "    maze_map = render_maze(removed_walls, rows, cols, passage_width=3, wall_width=1, map_height=10)\n",
    "    print(f\"Размер лабиринта: {maze_map.shape}\")\n",
    "    print(f\"Количество препятствий: {np.sum(maze_map)}\")\n",
    "    print()\n",
    "    \n",
    "    print(\"Генерация горного ландшафта...\")\n",
    "    mountain_map = generate_mountains(num_mountains=5, map_size=(map_width, map_height, map_depth))\n",
    "    print(f\"Размер горного ландшафта: {mountain_map.shape}\")\n",
    "    print(f\"Количество препятствий: {np.sum(mountain_map)}\")\n",
    "    print()\n",
    "    \n",
    "    print(\"Генерация сферических препятствий...\")\n",
    "    obstacles_map = generate_spherical_obstacles(\n",
    "        width=30, height=30, depth=30, \n",
    "        num_obstacles=15, radius_range=(2, 5), \n",
    "        wall_count=3, wall_length=8\n",
    "    )\n",
    "    print(f\"Размер карты со сферическими препятствиями: {obstacles_map.shape}\")\n",
    "    print(f\"Количество препятствий: {np.sum(obstacles_map)}\")\n",
    "    print()\n",
    "    \n",
    "    visualize_all()\n",
    "\n",
    "\n",
    "if __name__ == \"__main__\":\n",
    "    random.seed(42)\n",
    "    np.random.seed(42)\n",
    "    main()"
   ]
  }
 ],
 "metadata": {
  "kernelspec": {
   "display_name": "myenv",
   "language": "python",
   "name": "python3"
  },
  "language_info": {
   "codemirror_mode": {
    "name": "ipython",
    "version": 3
   },
   "file_extension": ".py",
   "mimetype": "text/x-python",
   "name": "python",
   "nbconvert_exporter": "python",
   "pygments_lexer": "ipython3",
   "version": "3.11.10"
  }
 },
 "nbformat": 4,
 "nbformat_minor": 5
}
